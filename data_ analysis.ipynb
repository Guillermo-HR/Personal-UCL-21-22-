{
 "cells": [
  {
   "cell_type": "code",
   "execution_count": null,
   "metadata": {},
   "outputs": [],
   "source": [
    "# Librerias\n",
    "import numpy as np\n",
    "import pandas as pd\n",
    "import matplotlib.pyplot as plt\n",
    "%matplotlib inline\n",
    "from matplotlib import cm\n",
    "from matplotlib import colors\n",
    "pd.options.display.max_columns = None"
   ]
  },
  {
   "cell_type": "code",
   "execution_count": null,
   "metadata": {},
   "outputs": [],
   "source": [
    "# Lectura y limpieza de datos\n",
    "datos=[]\n",
    "ataque=pd.read_csv('data/attacking.csv').drop(['serial','match_played'],axis=1)\n",
    "intentos=pd.read_csv('data/attempts.csv').drop(['serial','match_played'],axis=1)\n",
    "defenza=pd.read_csv('data/defending.csv').drop(['serial','match_played'],axis=1)\n",
    "pases=pd.read_csv('data/distributon.csv').drop(['serial','match_played'],axis=1)\n",
    "porteros=pd.read_csv('data/goalkeeping.csv').drop(['serial','match_played'],axis=1)\n",
    "goles=pd.read_csv('data/goals.csv').drop(['serial','match_played'],axis=1)\n",
    "general=pd.read_csv('data/key_stats.csv').drop(['goals','assists'],axis=1)\n",
    "datos=[intentos,defenza,pases,porteros,goles,general]\n",
    "df=ataque\n",
    "for i in datos:\n",
    "    df=pd.merge(df,i,on=['player_name','club','position'],how='outer')\n",
    "df.drop(df[df['player_name']=='Reinildo'].index,inplace=True)\n",
    "df.drop(df[df['player_name']=='Burak Yilmaz'].index,inplace=True)\n",
    "df.drop(df[df['player_name']=='Luis Díaz'].index,inplace=True)\n",
    "df.drop(df[df['player_name']=='Brobbey'].index,inplace=True)\n",
    "df['g_p']=df['goals']/df['match_played'] # Cantidad de goles por partidos jugados\n",
    "df['g_m']=df['minutes_played']/df['goals'] # Cantidad de minutos para que marque un gol\n",
    "df['a_p']=df['assists']/df['match_played'] # Cantidad de asistencias por partidos jugados\n",
    "df['a_m']=df['minutes_played']/df['assists'] # Cantidad de minutos para que de una asistencia\n",
    "df.insert(36,'no_penalties',df['goals']-df['penalties']) # Cantidad de goles que no fueron de penal\n",
    "df.insert(9,'tiros_porteria',(100*df['on_target'])/df['total_attempts']) # Cantidad de tiros a porteria\n",
    "df.insert(11,'tiros_no_porteria',(100*df['off_target'])/df['total_attempts']) # Cantidad de tiros sin direccion de porteria\n",
    "df.insert(13,'tiros_bloqueados',(100*df['blocked'])/df['total_attempts']) # Cantidad de tiros bloqueados\n",
    "df.insert(27,'salvadas_p',df['saved']/df['match_played']) # Cantidad de goles salvados por partido\n",
    "df.insert(29,'goles_p',df['conceded']/df['match_played']) # Cantidad de goles permitidos por partido\n",
    "df.insert(31,'penales_p',df['saved_penalties']/df['match_played']) # Cantidad de penales salvados por partido\n",
    "df.insert(33,'cero_goles',(df['cleansheets']*100)/df['match_played']) # Cantidad de porterias en ceros por partido\n",
    "df.fillna(0,inplace=True) # Relleno los valores NaN con 0\n",
    "df.loc[df['total_attempts'] == 0.0, 'tiros_porteria'] = np.nan # Eliminar los valores 0 de tiros_porteria para que no se concideren en las graficas\n",
    "df.loc[df['total_attempts'] == 0.0, 'tiros_no_porteria'] = np.nan # Eliminar los valores 0 de tiros_no_porteria para que no se concideren en las graficas\n",
    "df.loc[df['total_attempts'] == 0.0, 'tiros_bloqueados'] = np.nan # Eliminar los valores 0 de tiros_bloqueados para que no se concideren en las graficas\n",
    "df.loc[df['goals'] == 0.0, 'g_m'] = np.nan # Eliminar los valores 0 de g_m para que no se concideren en las graficas\n",
    "df.loc[df['assists'] == 0.0, 'a_m'] = np.nan # Eliminar los valores 0 de a_m para que no se concideren en las graficas\n",
    "equipos=pd.read_csv('data/club_matches.csv', encoding = 'cp1252').drop(['Unnamed: 0'],axis=1).set_index('club') # Leer partidos de equipos\n",
    "equipos=pd.merge(equipos,df.groupby(['club'])['goals'].sum(), on='club') # Agregar goles totales por equipo\n",
    "equipos['g_m']=equipos['goals']/equipos['teams_matches'] # Cantidad de goles por partido de equipos\n",
    "df=pd.merge(df,equipos['teams_matches'],on='club') # Agregar cantidad de partidos por equipo a registro de jugadores"
   ]
  },
  {
   "cell_type": "code",
   "execution_count": null,
   "metadata": {},
   "outputs": [],
   "source": [
    "# Ver DataFrames\n",
    "# df.columns\n",
    "# df\n",
    "# df.describe()\n",
    "# equipos.columns\n",
    "# equipos\n",
    "# equipos.describe()"
   ]
  },
  {
   "cell_type": "markdown",
   "metadata": {},
   "source": [
    "# Datos generales\n",
    "Se presentan las estadisticas totales de la temporada"
   ]
  },
  {
   "cell_type": "code",
   "execution_count": null,
   "metadata": {},
   "outputs": [],
   "source": [
    "# Obtener datos generales, se necesita para las graficas\n",
    "totales=df['goals'].sum()\n",
    "izquierda=round(df['left_foot'].sum()*100/totales,2)\n",
    "derecha=round(df['right_foot'].sum()*100/totales,2)\n",
    "cabeza=round(df['headers'].sum()*100/totales,2)\n",
    "otros=round(df['others'].sum()*100/totales,2)\n",
    "dentro_del_area=round(df['inside_area'].sum()*100/totales,2)\n",
    "fuera_del_area=round(df['outside_areas'].sum()*100/totales,2)\n",
    "# Mostrar como texto los datos generales\n",
    "print('Cantidad de equipos: {}'.format(len(pd.unique(df['club']))))\n",
    "print('Cantidad de jugadores: {}'.format(len(pd.unique(df['player_name']))))\n",
    "print(\"---------------------------------------------------\")\n",
    "print('Asistencias totales: {}'.format(int(df['assists'].sum())))\n",
    "print('Goles totales: {}'.format(totales))\n",
    "print(\"---------------------------------------------------\")\n",
    "print('Goles con la izquierda: {} --> %{}'.format(int(df['left_foot'].sum()),izquierda))\n",
    "print('Goles con la derecha: {} --> %{}'.format(int(df['right_foot'].sum()),derecha))\n",
    "print('Goles con la cabeza: {} --> %{}'.format(int(df['headers'].sum()),cabeza))\n",
    "print('Otros: {} --> %{}'.format(int(df['others'].sum()),otros))\n",
    "print(\"---------------------------------------------------\")\n",
    "print('Goles dentro del area: {} --> %{}'.format(int(df['inside_area'].sum()),dentro_del_area))\n",
    "print('Goles fuera del area: {} --> %{}'.format(int(df['outside_areas'].sum()),fuera_del_area))\n",
    "print(\"---------------------------------------------------\")\n",
    "print('Goles de penal: {}'.format(int(df['penalties'].sum())))\n",
    "print(\"---------------------------------------------------\")\n",
    "# Grafica de pastel, Tipos de goles\n",
    "datos=[derecha,izquierda,cabeza,otros]\n",
    "normdata=colors.Normalize(min(datos),max(datos))\n",
    "colormap = cm.get_cmap(\"jet\")\n",
    "colores =colormap(normdata(datos))\n",
    "separacion=[0.02,0.02,0.02,0.02]\n",
    "fig, ax = plt.subplots()\n",
    "ax.pie(datos,colors=colores, explode=separacion,labels=['Derecha','Izquierda','Cabeza','Otros'], autopct=\"%0.1f %%\",labeldistance=1.1,textprops={'color':\"azure\"})\n",
    "ax.axis('equal')\n",
    "plt.title('Tipos de goles',y=1.05,fontdict={'fontsize':20,'color':'azure', 'fontweight':'bold'})\n",
    "plt.show()\n",
    "# Grafica de pastel, Goles dentro y fuera del area\n",
    "datos=[dentro_del_area,fuera_del_area]\n",
    "normdata=colors.Normalize(min(datos),max(datos))\n",
    "colormap = cm.get_cmap(\"turbo\")\n",
    "colores =colormap(normdata(datos))\n",
    "separacion=[0.02,0.02]\n",
    "fig, ax = plt.subplots()\n",
    "ax.pie(datos,colors=colores, explode=separacion,labels=['Dentro del area','Fuera del area'], autopct=\"%0.1f %%\",labeldistance=1.1,textprops={'color':\"azure\"})\n",
    "ax.axis('equal')\n",
    "plt.title('Goles dentro y fuera del area',y=1.05,fontdict={'fontsize':20,'color':'azure', 'fontweight':'bold'})\n",
    "plt.show()"
   ]
  },
  {
   "cell_type": "markdown",
   "metadata": {},
   "source": [
    "# Goleadores"
   ]
  },
  {
   "cell_type": "code",
   "execution_count": null,
   "metadata": {
    "scrolled": true
   },
   "outputs": [],
   "source": [
    "# Totales\n",
    "df[['player_name','club','match_played','goals']].sort_values('goals',ascending=False).reset_index(drop=True).query(\"goals>0\")"
   ]
  },
  {
   "cell_type": "code",
   "execution_count": null,
   "metadata": {},
   "outputs": [],
   "source": [
    "# Por partido\n",
    "df[['player_name','club','g_p']].sort_values('g_p',ascending=False).reset_index(drop=True).query(\"g_p>0\")"
   ]
  },
  {
   "cell_type": "code",
   "execution_count": null,
   "metadata": {},
   "outputs": [],
   "source": [
    "# Por minutos\n",
    "df[['player_name','club','g_m']].sort_values('g_m',ascending=False).reset_index(drop=True).query(\"g_m>0\")"
   ]
  },
  {
   "cell_type": "code",
   "execution_count": null,
   "metadata": {},
   "outputs": [],
   "source": [
    "# Minutos por gol\n",
    "df[['player_name','club','m_g']].sort_values('m_g').reset_index(drop=True).query(\"m_g>0\")"
   ]
  },
  {
   "cell_type": "code",
   "execution_count": null,
   "metadata": {
    "scrolled": true
   },
   "outputs": [],
   "source": [
    "# Equipo total\n",
    "df.groupby(['club'])['goals'].sum().reset_index().sort_values('goals',ascending=False).reset_index(drop=True)"
   ]
  },
  {
   "cell_type": "code",
   "execution_count": null,
   "metadata": {},
   "outputs": [],
   "source": [
    "# Posicion\n",
    "df.groupby(['position'])['goals'].sum().reset_index().sort_values('goals',ascending=False).reset_index(drop=True)"
   ]
  },
  {
   "cell_type": "code",
   "execution_count": null,
   "metadata": {},
   "outputs": [],
   "source": [
    "# Equipo y posicion\n",
    "df.groupby(['club','position'])['goals'].sum().reset_index().sort_values('goals',ascending=False).reset_index(drop=True)"
   ]
  },
  {
   "cell_type": "markdown",
   "metadata": {},
   "source": [
    "# Asistencias"
   ]
  },
  {
   "cell_type": "code",
   "execution_count": null,
   "metadata": {},
   "outputs": [],
   "source": [
    "# Totales\n",
    "df[['player_name','club','match_played','assists']].sort_values('assists',ascending=False).reset_index(drop=True).query(\"assists>0\")"
   ]
  },
  {
   "cell_type": "code",
   "execution_count": null,
   "metadata": {},
   "outputs": [],
   "source": [
    "# Por partido\n",
    "df[['player_name','club','a_p']].sort_values('a_p',ascending=False).reset_index(drop=True).query(\"a_p>0\")"
   ]
  },
  {
   "cell_type": "code",
   "execution_count": null,
   "metadata": {},
   "outputs": [],
   "source": [
    "# Por minutos\n",
    "df[['player_name','club','a_m']].sort_values('a_m',ascending=False).reset_index(drop=True).query(\"a_m>0\")"
   ]
  },
  {
   "cell_type": "code",
   "execution_count": null,
   "metadata": {},
   "outputs": [],
   "source": [
    "# Posicion\n",
    "df.groupby(['position'])['assists'].sum().reset_index().sort_values('assists',ascending=False).reset_index(drop=True).query(\"assists>0\")"
   ]
  },
  {
   "cell_type": "code",
   "execution_count": null,
   "metadata": {},
   "outputs": [],
   "source": [
    "# Equipo y posicion\n",
    "df.groupby(['club','position'])['assists'].sum().reset_index().sort_values('assists',ascending=False).reset_index(drop=True).query(\"assists>0\")"
   ]
  }
 ],
 "metadata": {
  "kernelspec": {
   "display_name": "Python 3.9.12 ('base')",
   "language": "python",
   "name": "python3"
  },
  "language_info": {
   "codemirror_mode": {
    "name": "ipython",
    "version": 3
   },
   "file_extension": ".py",
   "mimetype": "text/x-python",
   "name": "python",
   "nbconvert_exporter": "python",
   "pygments_lexer": "ipython3",
   "version": "3.9.12"
  },
  "vscode": {
   "interpreter": {
    "hash": "2e9252e1097ce3c2361ff05749113f334e700c2312e7c10600c70214a7e80bc0"
   }
  }
 },
 "nbformat": 4,
 "nbformat_minor": 2
}
