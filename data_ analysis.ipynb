{
 "cells": [
  {
   "cell_type": "code",
   "execution_count": null,
   "metadata": {},
   "outputs": [],
   "source": [
    "import pandas as pd\n",
    "import matplotlib.pyplot as plt\n",
    "%matplotlib inline\n",
    "from matplotlib import cm\n",
    "from matplotlib import colors\n",
    "pd.options.display.max_columns = None"
   ]
  },
  {
   "cell_type": "code",
   "execution_count": null,
   "metadata": {},
   "outputs": [],
   "source": [
    "datos=[]\n",
    "ataque=pd.read_csv('data/attacking.csv').drop(['serial','match_played'],axis=1)\n",
    "intentos=pd.read_csv('data/attempts.csv').drop(['serial','match_played'],axis=1)\n",
    "defenza=pd.read_csv('data/defending.csv').drop(['serial','match_played'],axis=1)\n",
    "pases=pd.read_csv('data/distributon.csv').drop(['serial','match_played'],axis=1)\n",
    "porteros=pd.read_csv('data/goalkeeping.csv').drop(['serial','match_played'],axis=1)\n",
    "goles=pd.read_csv('data/goals.csv').drop(['serial','match_played'],axis=1)\n",
    "general=pd.read_csv('data/key_stats.csv').drop(['goals','assists'],axis=1)\n",
    "datos=[intentos,defenza,pases,porteros,goles,general]\n",
    "df=ataque\n",
    "for i in datos:\n",
    "    df=pd.merge(df,i,on=['player_name','club','position'],how='outer')\n",
    "df.fillna(0,inplace=True)\n",
    "df.drop(df[df['player_name']=='Reinildo'].index,inplace=True)\n",
    "df.drop(df[df['player_name']=='Luis Díaz'].index,inplace=True)\n",
    "df.drop(df[df['player_name']=='Brobbey'].index,inplace=True)\n",
    "df['g_m']=df['goals']/df['minutes_played']\n",
    "df['g_p']=df['goals']/df['match_played']\n",
    "df['a_m']=df['assists']/df['minutes_played']\n",
    "df['a_p']=df['assists']/df['match_played']\n",
    "df.insert(36,'no_penalties',df['goals']-df['penalties'])\n",
    "equipos=pd.read_csv('data/club_matches.csv', encoding = 'cp1252').drop(['Unnamed: 0'],axis=1).set_index('club')"
   ]
  },
  {
   "cell_type": "code",
   "execution_count": null,
   "metadata": {},
   "outputs": [],
   "source": [
    "df.columns"
   ]
  },
  {
   "cell_type": "code",
   "execution_count": null,
   "metadata": {},
   "outputs": [],
   "source": [
    "df.head(15)"
   ]
  },
  {
   "cell_type": "markdown",
   "metadata": {},
   "source": [
    "# Datos generales\n",
    "Se presentan las estadisticas totales de la temporada"
   ]
  },
  {
   "cell_type": "code",
   "execution_count": null,
   "metadata": {},
   "outputs": [],
   "source": [
    "totales=df['goals'].sum()\n",
    "izquierda=round(df['left_foot'].sum()*100/totales,2)\n",
    "derecha=round(df['right_foot'].sum()*100/totales,2)\n",
    "cabeza=round(df['headers'].sum()*100/totales,2)\n",
    "otros=round(df['others'].sum()*100/totales,2)\n",
    "dentro_del_area=round(df['inside_area'].sum()*100/totales,2)\n",
    "fuera_del_area=round(df['outside_areas'].sum()*100/totales,2)"
   ]
  },
  {
   "cell_type": "code",
   "execution_count": null,
   "metadata": {},
   "outputs": [],
   "source": [
    "print('Cantidad de equipos: {}'.format(len(pd.unique(df['club']))))\n",
    "print('Cantidad de jugadores: {}'.format(len(pd.unique(df['player_name']))))\n",
    "print(\"---------------------------------------------------\")\n",
    "print('Asistencias totales: {}'.format(int(df['assists'].sum())))\n",
    "print('Goles totales: {}'.format(totales))\n",
    "print(\"---------------------------------------------------\")\n",
    "print('Goles con la izquierda: {} --> %{}'.format(int(df['left_foot'].sum()),izquierda))\n",
    "print('Goles con la derecha: {} --> %{}'.format(int(df['right_foot'].sum()),derecha))\n",
    "print('Goles con la cabeza: {} --> %{}'.format(int(df['headers'].sum()),cabeza))\n",
    "print('Otros: {} --> %{}'.format(int(df['others'].sum()),otros))\n",
    "print(\"---------------------------------------------------\")\n",
    "print('Goles dentro del area: {} --> %{}'.format(int(df['inside_area'].sum()),dentro_del_area))\n",
    "print('Goles fuera del area: {} --> %{}'.format(int(df['outside_areas'].sum()),fuera_del_area))\n",
    "print(\"---------------------------------------------------\")\n",
    "print('Goles de penal: {}'.format(int(df['penalties'].sum())))\n",
    "print(\"---------------------------------------------------\")"
   ]
  },
  {
   "cell_type": "code",
   "execution_count": null,
   "metadata": {},
   "outputs": [],
   "source": [
    "datos=[derecha,izquierda,cabeza,otros]\n",
    "normdata=colors.Normalize(min(datos),max(datos))\n",
    "colormap = cm.get_cmap(\"jet\")\n",
    "colores =colormap(normdata(datos))\n",
    "separacion=[0.02,0.02,0.02,0.02]\n",
    "fig, ax = plt.subplots()\n",
    "ax.pie(datos,colors=colores, explode=separacion,labels=['Derecha','Izquierda','Cabeza','Otros'], autopct=\"%0.1f %%\",labeldistance=1.1,textprops={'color':\"azure\"})\n",
    "ax.axis('equal')\n",
    "plt.title('Goles temporada 2021',y=1.05,fontdict={'fontsize':20,'color':'azure', 'fontweight':'bold'})\n",
    "plt.show()"
   ]
  },
  {
   "cell_type": "code",
   "execution_count": null,
   "metadata": {},
   "outputs": [],
   "source": [
    "datos=[dentro_del_area,fuera_del_area]\n",
    "normdata=colors.Normalize(min(datos),max(datos))\n",
    "colormap = cm.get_cmap(\"turbo\")\n",
    "colores =colormap(normdata(datos))\n",
    "separacion=[0.02,0.02]\n",
    "fig, ax = plt.subplots()\n",
    "ax.pie(datos,colors=colores, explode=separacion,labels=['Dentro del area','Fuera del area'], autopct=\"%0.1f %%\",labeldistance=1.1,textprops={'color':\"azure\"})\n",
    "ax.axis('equal')\n",
    "plt.title('Goles temporada 2021',y=1.05,fontdict={'fontsize':20,'color':'azure', 'fontweight':'bold'})\n",
    "plt.show()"
   ]
  },
  {
   "cell_type": "markdown",
   "metadata": {},
   "source": [
    "# Goleadores"
   ]
  },
  {
   "cell_type": "code",
   "execution_count": null,
   "metadata": {
    "scrolled": true
   },
   "outputs": [],
   "source": [
    "# Individuales\n",
    "df[['player_name','club','match_played','goals']].sort_values('goals',ascending=False).reset_index(drop=True).query(\"goals>0\")"
   ]
  },
  {
   "cell_type": "code",
   "execution_count": null,
   "metadata": {},
   "outputs": [],
   "source": [
    "# Goles por partido\n",
    "df[['player_name','club','g_p']].sort_values('g_p',ascending=False).reset_index(drop=True).query(\"g_p>0\")"
   ]
  },
  {
   "cell_type": "code",
   "execution_count": null,
   "metadata": {},
   "outputs": [],
   "source": [
    "# Goles por minutos\n",
    "df[['player_name','club','g_m']].sort_values('g_m',ascending=False).reset_index(drop=True).query(\"g_m>0\")"
   ]
  },
  {
   "cell_type": "code",
   "execution_count": null,
   "metadata": {
    "scrolled": true
   },
   "outputs": [],
   "source": [
    "# Equipo\n",
    "df.groupby(['club'])['goals'].sum().reset_index().sort_values('goals',ascending=False).reset_index(drop=True).query(\"goals>0\")"
   ]
  },
  {
   "cell_type": "code",
   "execution_count": null,
   "metadata": {},
   "outputs": [],
   "source": [
    "# Posicion\n",
    "df.groupby(['position'])['goals'].sum().reset_index().sort_values('goals',ascending=False).reset_index(drop=True).query(\"goals>0\")"
   ]
  },
  {
   "cell_type": "code",
   "execution_count": null,
   "metadata": {},
   "outputs": [],
   "source": [
    "# Equipo y posicion\n",
    "df.groupby(['club','position'])['goals'].sum().reset_index().sort_values('goals',ascending=False).reset_index(drop=True).query(\"goals>0\")"
   ]
  },
  {
   "cell_type": "markdown",
   "metadata": {},
   "source": [
    "# Asistencias"
   ]
  },
  {
   "cell_type": "code",
   "execution_count": null,
   "metadata": {},
   "outputs": [],
   "source": [
    "# Indivuduales\n",
    "df[['player_name','club','match_played','assists']].sort_values('assists',ascending=False).reset_index(drop=True).query(\"assists>0\")"
   ]
  },
  {
   "cell_type": "code",
   "execution_count": null,
   "metadata": {},
   "outputs": [],
   "source": [
    "# Asistencias por partido\n",
    "df[['player_name','club','a_p']].sort_values('a_p',ascending=False).reset_index(drop=True).query(\"a_p>0\")"
   ]
  },
  {
   "cell_type": "code",
   "execution_count": null,
   "metadata": {},
   "outputs": [],
   "source": [
    "# Asistencias por minutos\n",
    "df[['player_name','club','a_m']].sort_values('a_m',ascending=False).reset_index(drop=True).query(\"a_m>0\")"
   ]
  },
  {
   "cell_type": "code",
   "execution_count": null,
   "metadata": {},
   "outputs": [],
   "source": [
    "# Posicion\n",
    "df.groupby(['position'])['assists'].sum().reset_index().sort_values('assists',ascending=False).reset_index(drop=True).query(\"assists>0\")"
   ]
  },
  {
   "cell_type": "code",
   "execution_count": null,
   "metadata": {},
   "outputs": [],
   "source": [
    "# Posicion y equipo\n",
    "df.groupby(['club','position'])['assists'].sum().reset_index().sort_values('assists',ascending=False).reset_index(drop=True).query(\"assists>0\")"
   ]
  },
  {
   "cell_type": "markdown",
   "metadata": {},
   "source": [
    "# Buscador"
   ]
  },
  {
   "cell_type": "code",
   "execution_count": null,
   "metadata": {},
   "outputs": [],
   "source": [
    "def analizar_jugador(jugador):\n",
    "    df_j=df[df['player_name']==jugador].reset_index(drop=True)\n",
    "    print('Jugador: {}   Posicion: {}  Equipo: {}   Partidos jugados: {}   Goles: {}   Asistencias: {}'.format(jugador,df_j['position'][0],df_j['club'][0],df_j['match_played'][0],df_j['goals'][0],df_j['assists'][0]))"
   ]
  },
  {
   "cell_type": "code",
   "execution_count": null,
   "metadata": {},
   "outputs": [],
   "source": [
    "bandera=True\n",
    "while bandera or df_j.shape[0]==0:\n",
    "    bandera=False\n",
    "    jugador=input('Ingrese el nombre del jugador ')\n",
    "    df_j=df[df['player_name']==jugador].reset_index(drop=True)\n",
    "    if df_j.shape[0]>1:\n",
    "        print(df_j[['player_name','club']])\n",
    "        indice_jugador=int(input(f'Existen {df_j.shape[0]} coincidencias.\\nIngresa el numero del jugadar que quieres seleccionar'))\n",
    "        df_j=df_j.loc[indice_jugador]\n",
    "if df_j['goals'][0]>0:\n",
    "    plt.figure(figsize=(14,10))\n",
    "    colores1=cm.get_cmap('Set1', 4).colors\n",
    "    colores2=cm.get_cmap('Dark2', 2).colors\n",
    "    colores3=cm.get_cmap('tab10', 2).colors\n",
    "    x1=df_j.loc[0,'right_foot':'others'][df_j.loc[0,'right_foot':'others']>0]\n",
    "    x2=df_j.loc[0,'inside_area':'outside_areas'][df_j.loc[0,'inside_area':'outside_areas']>0]\n",
    "    x3=df_j.loc[0,'penalties':'no_penalties'][df_j.loc[0,'penalties':'no_penalties']>0]\n",
    "    x1.plot.pie(legend=True,colors=colores1,wedgeprops={'linewidth':1.8,'edgecolor':\"slategray\"},autopct='%1.2f%%',textprops={'color':'lavender','fontsize':10},pctdistance=0.88)\n",
    "    x2.plot.pie(legend=True,colors=colores2,radius=0.75,startangle=90,wedgeprops={'linewidth':1.8,'edgecolor':\"slategray\"},autopct='%1.2f%%',textprops={'color':'lavender','fontsize':10},pctdistance=0.88)\n",
    "    x3.plot.pie(legend=True,colors=colores3,radius=0.5,startangle=90,wedgeprops={'linewidth':1.8,'edgecolor':\"slategray\"},autopct='%1.2f%%',textprops={'color':'lavender','fontsize':10},pctdistance=0.88)\n",
    "    plt.title(f'Distribucion de goles de {jugador}',fontdict={'fontweight':'bold','color':'w','fontsize':21})\n",
    "    centre_circle=plt.Circle((0,0),0.25,fc='lightgray')\n",
    "    fig=plt.gcf()\n",
    "    fig.gca().add_artist(centre_circle)\n",
    "    plt.axis('equal')\n",
    "    plt.legend(loc=7)\n",
    "    plt.text(-0.1,0.01,f\"Goles: {int(df_j['goals'][0])}\",fontdict={'fontweight':'bold','fontsize':12})\n",
    "    plt.text(-0.13,-0.06,f\"Partidos: {int(df_j['match_played'][0])}\",fontdict={'fontweight':'bold','fontsize':12})\n",
    "    plt.show()"
   ]
  }
 ],
 "metadata": {
  "kernelspec": {
   "display_name": "Python 3.9.12 ('base')",
   "language": "python",
   "name": "python3"
  },
  "language_info": {
   "codemirror_mode": {
    "name": "ipython",
    "version": 3
   },
   "file_extension": ".py",
   "mimetype": "text/x-python",
   "name": "python",
   "nbconvert_exporter": "python",
   "pygments_lexer": "ipython3",
   "version": "3.9.12"
  },
  "vscode": {
   "interpreter": {
    "hash": "2e9252e1097ce3c2361ff05749113f334e700c2312e7c10600c70214a7e80bc0"
   }
  }
 },
 "nbformat": 4,
 "nbformat_minor": 2
}
