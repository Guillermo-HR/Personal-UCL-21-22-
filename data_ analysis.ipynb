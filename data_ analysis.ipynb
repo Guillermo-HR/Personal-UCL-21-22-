{
 "cells": [
  {
   "cell_type": "code",
   "execution_count": 38,
   "metadata": {},
   "outputs": [],
   "source": [
    "import pandas as pd\n",
    "import matplotlib as mpl\n",
    "import datetime as dt"
   ]
  },
  {
   "cell_type": "code",
   "execution_count": 39,
   "metadata": {},
   "outputs": [],
   "source": [
    "datos=[]\n",
    "ataque=pd.read_csv('data/attacking.csv').drop(['serial'],axis=1)\n",
    "intentos=pd.read_csv('data/attempts.csv').drop(['serial'],axis=1)\n",
    "defenza=pd.read_csv('data/defending.csv').drop(['serial'],axis=1)\n",
    "disciplina=pd.read_csv('data/disciplinary.csv').drop(['serial'],axis=1)\n",
    "pases=pd.read_csv('data/distributon.csv').drop(['serial'],axis=1)\n",
    "porteros=pd.read_csv('data/goalkeeping.csv').drop(['serial'],axis=1)\n",
    "goles=pd.read_csv('data/goals.csv').drop(['serial'],axis=1)\n",
    "general=pd.read_csv('data/key_stats.csv').drop(['goals','assists'],axis=1)\n",
    "datos=[intentos,defenza,disciplina,pases,porteros,goles,general]\n",
    "df=ataque\n",
    "for i in datos:\n",
    "    df=pd.merge(df,i,on=['player_name','club','position','match_played'],how='outer')\n",
    "df.to_csv('resultados.csv')"
   ]
  },
  {
   "cell_type": "code",
   "execution_count": 41,
   "metadata": {},
   "outputs": [
    {
     "data": {
      "text/plain": [
       "Index(['player_name', 'club', 'position', 'assists', 'corner_taken',\n",
       "       'offsides', 'dribbles', 'match_played', 'total_attempts', 'on_target',\n",
       "       'off_target', 'blocked', 'balls_recoverd', 'tackles', 't_won', 't_lost',\n",
       "       'clearance_attempted', 'fouls_committed', 'fouls_suffered', 'red',\n",
       "       'yellow', 'minutes_played_x', 'pass_accuracy', 'pass_attempted',\n",
       "       'pass_completed', 'cross_accuracy', 'cross_attempted', 'cross_complted',\n",
       "       'freekicks_taken', 'saved', 'conceded', 'saved_penalties',\n",
       "       'cleansheets', 'punches made', 'goals', 'right_foot', 'left_foot',\n",
       "       'headers', 'others', 'inside_area', 'outside_areas', 'penalties',\n",
       "       'minutes_played_y', 'distance_covered'],\n",
       "      dtype='object')"
      ]
     },
     "execution_count": 41,
     "metadata": {},
     "output_type": "execute_result"
    }
   ],
   "source": [
    "df.columns"
   ]
  }
 ],
 "metadata": {
  "kernelspec": {
   "display_name": "Python 3.10.4 64-bit",
   "language": "python",
   "name": "python3"
  },
  "language_info": {
   "codemirror_mode": {
    "name": "ipython",
    "version": 3
   },
   "file_extension": ".py",
   "mimetype": "text/x-python",
   "name": "python",
   "nbconvert_exporter": "python",
   "pygments_lexer": "ipython3",
   "version": "3.10.4"
  },
  "orig_nbformat": 4,
  "vscode": {
   "interpreter": {
    "hash": "aee8b7b246df8f9039afb4144a1f6fd8d2ca17a180786b69acc140d282b71a49"
   }
  }
 },
 "nbformat": 4,
 "nbformat_minor": 2
}
