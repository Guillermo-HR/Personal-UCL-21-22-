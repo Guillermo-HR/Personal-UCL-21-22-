{
 "cells": [
  {
   "cell_type": "code",
   "execution_count": null,
   "metadata": {},
   "outputs": [],
   "source": [
    "# Librerias\n",
    "import numpy as np\n",
    "import pandas as pd\n",
    "import matplotlib.pyplot as plt\n",
    "%matplotlib inline\n",
    "from matplotlib import cm\n",
    "from matplotlib import colors\n",
    "pd.options.display.max_columns = None"
   ]
  },
  {
   "cell_type": "code",
   "execution_count": null,
   "metadata": {},
   "outputs": [],
   "source": [
    "# Lectura y limpieza de datos\n",
    "datos=[]\n",
    "ataque=pd.read_csv('data/attacking.csv').drop(['serial','match_played'],axis=1)\n",
    "intentos=pd.read_csv('data/attempts.csv').drop(['serial','match_played'],axis=1)\n",
    "defenza=pd.read_csv('data/defending.csv').drop(['serial','match_played'],axis=1)\n",
    "pases=pd.read_csv('data/distributon.csv').drop(['serial','match_played'],axis=1)\n",
    "porteros=pd.read_csv('data/goalkeeping.csv').drop(['serial','match_played'],axis=1)\n",
    "goles=pd.read_csv('data/goals.csv').drop(['serial','match_played'],axis=1)\n",
    "general=pd.read_csv('data/key_stats.csv').drop(['goals','assists'],axis=1)\n",
    "datos=[intentos,defenza,pases,porteros,goles,general]\n",
    "df=ataque\n",
    "for i in datos:\n",
    "    df=pd.merge(df,i,on=['player_name','club','position'],how='outer')\n",
    "df.drop(df[df['player_name']=='Reinildo'].index,inplace=True)\n",
    "df.drop(df[df['player_name']=='Burak Yilmaz'].index,inplace=True)\n",
    "df.drop(df[df['player_name']=='Luis Díaz'].index,inplace=True)\n",
    "df.drop(df[df['player_name']=='Brobbey'].index,inplace=True)\n",
    "df['g_m']=df['goals']/df['minutes_played'] # Cantidad de goles por minutos jugados\n",
    "df['m_g']=df['minutes_played']/df['goals'] # Cantidad de minutos para que marque un gol\n",
    "df['g_p']=df['goals']/df['match_played'] # Cantidad de goles por partidos jugados\n",
    "df['a_m']=df['assists']/df['minutes_played'] # Cantidad de asistencias por minutos jugados\n",
    "df['a_p']=df['assists']/df['match_played'] # Cantidad de asistencias por partidos jugados\n",
    "df.replace([np.inf, -np.inf], np.nan, inplace=True) # eliminar infinitos\n",
    "df.insert(36,'no_penalties',df['goals']-df['penalties'])\n",
    "df.fillna(0,inplace=True)\n",
    "equipos=pd.read_csv('data/club_matches.csv', encoding = 'cp1252').drop(['Unnamed: 0'],axis=1).set_index('club')\n",
    "equipos=pd.merge(equipos,df.groupby(['club'])['goals'].sum(), on='club')\n",
    "equipos['g_m']=equipos['goals']/equipos['teams_matches']\n",
    "df=pd.merge(df,equipos['teams_matches'],on='club')"
   ]
  },
  {
   "cell_type": "code",
   "execution_count": null,
   "metadata": {},
   "outputs": [],
   "source": [
    "# Ver DataFrames\n",
    "# df.columns\n",
    "# df\n",
    "# df.describe()\n",
    "# equipos.columns\n",
    "# equipos\n",
    "# equipos.describe()"
   ]
  },
  {
   "cell_type": "markdown",
   "metadata": {},
   "source": [
    "# Datos generales\n",
    "Se presentan las estadisticas totales de la temporada"
   ]
  },
  {
   "cell_type": "code",
   "execution_count": null,
   "metadata": {},
   "outputs": [],
   "source": [
    "# Obtener datos generales, se necesita para las siguientes celdas\n",
    "totales=df['goals'].sum()\n",
    "izquierda=round(df['left_foot'].sum()*100/totales,2)\n",
    "derecha=round(df['right_foot'].sum()*100/totales,2)\n",
    "cabeza=round(df['headers'].sum()*100/totales,2)\n",
    "otros=round(df['others'].sum()*100/totales,2)\n",
    "dentro_del_area=round(df['inside_area'].sum()*100/totales,2)\n",
    "fuera_del_area=round(df['outside_areas'].sum()*100/totales,2)"
   ]
  },
  {
   "cell_type": "code",
   "execution_count": null,
   "metadata": {},
   "outputs": [],
   "source": [
    "# Mostrar como texto los datos generales\n",
    "print('Cantidad de equipos: {}'.format(len(pd.unique(df['club']))))\n",
    "print('Cantidad de jugadores: {}'.format(len(pd.unique(df['player_name']))))\n",
    "print(\"---------------------------------------------------\")\n",
    "print('Asistencias totales: {}'.format(int(df['assists'].sum())))\n",
    "print('Goles totales: {}'.format(totales))\n",
    "print(\"---------------------------------------------------\")\n",
    "print('Goles con la izquierda: {} --> %{}'.format(int(df['left_foot'].sum()),izquierda))\n",
    "print('Goles con la derecha: {} --> %{}'.format(int(df['right_foot'].sum()),derecha))\n",
    "print('Goles con la cabeza: {} --> %{}'.format(int(df['headers'].sum()),cabeza))\n",
    "print('Otros: {} --> %{}'.format(int(df['others'].sum()),otros))\n",
    "print(\"---------------------------------------------------\")\n",
    "print('Goles dentro del area: {} --> %{}'.format(int(df['inside_area'].sum()),dentro_del_area))\n",
    "print('Goles fuera del area: {} --> %{}'.format(int(df['outside_areas'].sum()),fuera_del_area))\n",
    "print(\"---------------------------------------------------\")\n",
    "print('Goles de penal: {}'.format(int(df['penalties'].sum())))\n",
    "print(\"---------------------------------------------------\")"
   ]
  },
  {
   "cell_type": "code",
   "execution_count": null,
   "metadata": {},
   "outputs": [],
   "source": [
    "# Grafica de pastel, Tipos de goles\n",
    "datos=[derecha,izquierda,cabeza,otros]\n",
    "normdata=colors.Normalize(min(datos),max(datos))\n",
    "colormap = cm.get_cmap(\"jet\")\n",
    "colores =colormap(normdata(datos))\n",
    "separacion=[0.02,0.02,0.02,0.02]\n",
    "fig, ax = plt.subplots()\n",
    "ax.pie(datos,colors=colores, explode=separacion,labels=['Derecha','Izquierda','Cabeza','Otros'], autopct=\"%0.1f %%\",labeldistance=1.1,textprops={'color':\"azure\"})\n",
    "ax.axis('equal')\n",
    "plt.title('Tipos de goles',y=1.05,fontdict={'fontsize':20,'color':'azure', 'fontweight':'bold'})\n",
    "plt.show()"
   ]
  },
  {
   "cell_type": "code",
   "execution_count": null,
   "metadata": {},
   "outputs": [],
   "source": [
    "# Grafica de pastel, Goles dentro y fuera del area\n",
    "datos=[dentro_del_area,fuera_del_area]\n",
    "normdata=colors.Normalize(min(datos),max(datos))\n",
    "colormap = cm.get_cmap(\"turbo\")\n",
    "colores =colormap(normdata(datos))\n",
    "separacion=[0.02,0.02]\n",
    "fig, ax = plt.subplots()\n",
    "ax.pie(datos,colors=colores, explode=separacion,labels=['Dentro del area','Fuera del area'], autopct=\"%0.1f %%\",labeldistance=1.1,textprops={'color':\"azure\"})\n",
    "ax.axis('equal')\n",
    "plt.title('Goles dentro y fuera del area',y=1.05,fontdict={'fontsize':20,'color':'azure', 'fontweight':'bold'})\n",
    "plt.show()"
   ]
  },
  {
   "cell_type": "markdown",
   "metadata": {},
   "source": [
    "# Goleadores"
   ]
  },
  {
   "cell_type": "code",
   "execution_count": null,
   "metadata": {
    "scrolled": true
   },
   "outputs": [],
   "source": [
    "# Totales\n",
    "df[['player_name','club','match_played','goals']].sort_values('goals',ascending=False).reset_index(drop=True).query(\"goals>0\")"
   ]
  },
  {
   "cell_type": "code",
   "execution_count": null,
   "metadata": {},
   "outputs": [],
   "source": [
    "# Por partido\n",
    "df[['player_name','club','g_p']].sort_values('g_p',ascending=False).reset_index(drop=True).query(\"g_p>0\")"
   ]
  },
  {
   "cell_type": "code",
   "execution_count": null,
   "metadata": {},
   "outputs": [],
   "source": [
    "# Por minutos\n",
    "df[['player_name','club','g_m']].sort_values('g_m',ascending=False).reset_index(drop=True).query(\"g_m>0\")"
   ]
  },
  {
   "cell_type": "code",
   "execution_count": null,
   "metadata": {},
   "outputs": [],
   "source": [
    "# Minutos por gol\n",
    "df[['player_name','club','m_g']].sort_values('m_g').reset_index(drop=True).query(\"m_g>0\")"
   ]
  },
  {
   "cell_type": "code",
   "execution_count": null,
   "metadata": {
    "scrolled": true
   },
   "outputs": [],
   "source": [
    "# Equipo total\n",
    "df.groupby(['club'])['goals'].sum().reset_index().sort_values('goals',ascending=False).reset_index(drop=True)"
   ]
  },
  {
   "cell_type": "code",
   "execution_count": null,
   "metadata": {},
   "outputs": [],
   "source": [
    "# Posicion\n",
    "df.groupby(['position'])['goals'].sum().reset_index().sort_values('goals',ascending=False).reset_index(drop=True)"
   ]
  },
  {
   "cell_type": "code",
   "execution_count": null,
   "metadata": {},
   "outputs": [],
   "source": [
    "# Equipo y posicion\n",
    "df.groupby(['club','position'])['goals'].sum().reset_index().sort_values('goals',ascending=False).reset_index(drop=True)"
   ]
  },
  {
   "cell_type": "markdown",
   "metadata": {},
   "source": [
    "# Asistencias"
   ]
  },
  {
   "cell_type": "code",
   "execution_count": null,
   "metadata": {},
   "outputs": [],
   "source": [
    "# Totales\n",
    "df[['player_name','club','match_played','assists']].sort_values('assists',ascending=False).reset_index(drop=True).query(\"assists>0\")"
   ]
  },
  {
   "cell_type": "code",
   "execution_count": null,
   "metadata": {},
   "outputs": [],
   "source": [
    "# Por partido\n",
    "df[['player_name','club','a_p']].sort_values('a_p',ascending=False).reset_index(drop=True).query(\"a_p>0\")"
   ]
  },
  {
   "cell_type": "code",
   "execution_count": null,
   "metadata": {},
   "outputs": [],
   "source": [
    "# Por minutos\n",
    "df[['player_name','club','a_m']].sort_values('a_m',ascending=False).reset_index(drop=True).query(\"a_m>0\")"
   ]
  },
  {
   "cell_type": "code",
   "execution_count": null,
   "metadata": {},
   "outputs": [],
   "source": [
    "# Posicion\n",
    "df.groupby(['position'])['assists'].sum().reset_index().sort_values('assists',ascending=False).reset_index(drop=True).query(\"assists>0\")"
   ]
  },
  {
   "cell_type": "code",
   "execution_count": null,
   "metadata": {},
   "outputs": [],
   "source": [
    "# Equipo y posicion\n",
    "df.groupby(['club','position'])['assists'].sum().reset_index().sort_values('assists',ascending=False).reset_index(drop=True).query(\"assists>0\")"
   ]
  },
  {
   "cell_type": "markdown",
   "metadata": {},
   "source": [
    "# Buscador"
   ]
  },
  {
   "cell_type": "code",
   "execution_count": null,
   "metadata": {},
   "outputs": [],
   "source": [
    "# Buscador individual\n",
    "bandera=True\n",
    "while bandera or df_j.shape[0]==0:\n",
    "    bandera=False\n",
    "    jugador=input('Ingrese el nombre del jugador ')\n",
    "    df_j=df[df['player_name']==jugador].reset_index(drop=True)\n",
    "    if df_j.shape[0]>1:\n",
    "        print(df_j[['player_name','club']])\n",
    "        indice_jugador=int(input(f'Existen {df_j.shape[0]} coincidencias.\\nIngresa el numero del jugadar que quieres seleccionar'))\n",
    "        df_j=df_j.loc[indice_jugador]\n",
    "if df_j['goals'][0]>0: # Grafica Distribucion de goles\n",
    "    # Datos a graficar\n",
    "    colores1=cm.get_cmap('Set1', 4).colors\n",
    "    colores2=cm.get_cmap('Dark2', 2).colors\n",
    "    colores3=cm.get_cmap('tab10', 2).colors\n",
    "    x1=df_j.loc[0,'right_foot':'others'][df_j.loc[0,'right_foot':'others']>0]\n",
    "    x2=df_j.loc[0,'inside_area':'outside_areas'][df_j.loc[0,'inside_area':'outside_areas']>0]\n",
    "    x3=df_j.loc[0,'penalties':'no_penalties'][df_j.loc[0,'penalties':'no_penalties']>0]\n",
    "    plt.figure(figsize=(15,10)) # Crear grafica 1\n",
    "    plt.subplot(111)\n",
    "    plt.suptitle(f'Distribucion de goles de {jugador}',fontsize=21,fontweight='bold',color='w') # Titulo\n",
    "    # Crear graficas\n",
    "    x1.plot.pie(legend=True,colors=colores1,wedgeprops={'linewidth':1.8,'edgecolor':\"slategray\"},autopct='%1.2f%%',textprops={'color':'lavender','fontsize':10},pctdistance=0.88)\n",
    "    x2.plot.pie(legend=True,colors=colores2,radius=0.75,startangle=90,wedgeprops={'linewidth':1.8,'edgecolor':\"slategray\"},autopct='%1.2f%%',textprops={'color':'lavender','fontsize':10},pctdistance=0.88)\n",
    "    x3.plot.pie(legend=True,colors=colores3,radius=0.5,startangle=90,wedgeprops={'linewidth':1.8,'edgecolor':\"slategray\"},autopct='%1.2f%%',textprops={'color':'lavender','fontsize':10},pctdistance=0.88)\n",
    "    # Circulo central\n",
    "    centre_circle=plt.Circle((0,0),0.25,fc='lightgray')\n",
    "    fig=plt.gcf()\n",
    "    fig.gca().add_artist(centre_circle)\n",
    "    # Texto del circulo\n",
    "    plt.text(-0.1,0.01,f\"Goles: {int(df_j['goals'][0])}\",fontdict={'fontweight':'bold','fontsize':12})\n",
    "    plt.text(-0.13,-0.06,f\"Partidos: {int(df_j['match_played'][0])}\",fontdict={'fontweight':'bold','fontsize':12})\n",
    "    plt.axis('equal') # Para que el circulo no tenga forma de elipse\n",
    "    plt.legend(loc=7,fontsize=12) # Formato de la leyenda\n",
    "\n",
    "    plt.show() # Mostrar\n",
    "# Grafica Comparacion por posicion\n",
    "# Datos a graficar\n",
    "posicion=df_j['position'][0]\n",
    "df_pos=df[df['position']==posicion]\n",
    "fig,ax=plt.subplots(nrows=3, ncols=2, figsize=(25,10)) # Crear figura\n",
    "plt.suptitle(f'Comparacion de {jugador} contra jugadores de su posicion',fontsize=21,fontweight='bold',color='w') # Titulo\n",
    "columnas=[['goals','assists'],['g_p','a_p'],['g_m','a_m']] # Columnas a graficar\n",
    "# Graficar\n",
    "for i,col in zip(range(3),columnas):\n",
    "    # Graficas izquierda\n",
    "    df_pos.boxplot([col[0]], ax=ax[i][0],vert=False)\n",
    "    ax[i][0].plot(df_j[col[0]][0],1, marker=\"D\", color=\"red\",markersize=9)\n",
    "    ax[i][0].tick_params(labelsize=15,labelcolor='w')\n",
    "    ax[i][0].set_facecolor('azure')\n",
    "    # Graficas derecha\n",
    "    df_pos.boxplot([col[1]], ax=ax[i][1],vert=False)\n",
    "    ax[i][1].plot(df_j[col[1]][0],1, marker=\"D\", color=\"red\",markersize=9)\n",
    "    ax[i][1].tick_params(labelsize=15,labelcolor='w')\n",
    "    ax[i][1].set_facecolor('azure')\n",
    "plt.show()\n",
    "plt.tight_layout()"
   ]
  }
 ],
 "metadata": {
  "kernelspec": {
   "display_name": "Python 3.9.12 ('base')",
   "language": "python",
   "name": "python3"
  },
  "language_info": {
   "codemirror_mode": {
    "name": "ipython",
    "version": 3
   },
   "file_extension": ".py",
   "mimetype": "text/x-python",
   "name": "python",
   "nbconvert_exporter": "python",
   "pygments_lexer": "ipython3",
   "version": "3.9.12"
  },
  "vscode": {
   "interpreter": {
    "hash": "2e9252e1097ce3c2361ff05749113f334e700c2312e7c10600c70214a7e80bc0"
   }
  }
 },
 "nbformat": 4,
 "nbformat_minor": 2
}
