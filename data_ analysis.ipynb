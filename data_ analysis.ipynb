{
 "cells": [
  {
   "cell_type": "code",
   "execution_count": null,
   "metadata": {},
   "outputs": [],
   "source": [
    "import pandas as pd\n",
    "%matplotlib inline\n",
    "import matplotlib.pyplot as plt\n",
    "plt.rcParams[\"figure.figsize\"] = (8, 8)\n",
    "plt.rcParams[\"font.size\"] = 15\n",
    "from matplotlib import cm\n",
    "from matplotlib import colors\n",
    "import datetime as dt\n",
    "pd.options.display.max_columns = None"
   ]
  },
  {
   "cell_type": "code",
   "execution_count": null,
   "metadata": {},
   "outputs": [],
   "source": [
    "datos=[]\n",
    "ataque=pd.read_csv('data/attacking.csv').drop(['serial','match_played'],axis=1)\n",
    "intentos=pd.read_csv('data/attempts.csv').drop(['serial','match_played'],axis=1)\n",
    "defenza=pd.read_csv('data/defending.csv').drop(['serial','match_played'],axis=1)\n",
    "disciplina=pd.read_csv('data/disciplinary.csv').drop(['serial','match_played','minutes_played'],axis=1)\n",
    "pases=pd.read_csv('data/distributon.csv').drop(['serial','match_played'],axis=1)\n",
    "porteros=pd.read_csv('data/goalkeeping.csv').drop(['serial','match_played'],axis=1)\n",
    "goles=pd.read_csv('data/goals.csv').drop(['serial','match_played'],axis=1)\n",
    "general=pd.read_csv('data/key_stats.csv').drop(['goals','assists'],axis=1)\n",
    "datos=[intentos,defenza,disciplina,pases,porteros,goles,general]\n",
    "df=ataque\n",
    "for i in datos:\n",
    "    df=pd.merge(df,i,on=['player_name','club','position'],how='outer')\n",
    "df.fillna(0,inplace=True)\n",
    "df.drop(df[df['player_name']=='Reinildo'].index,inplace=True)\n",
    "df.drop(df[df['player_name']=='Luis Díaz'].index,inplace=True)\n",
    "df.drop(df[df['player_name']=='Brobbey'].index,inplace=True)\n",
    "df.to_csv('resultados.csv')"
   ]
  },
  {
   "cell_type": "code",
   "execution_count": null,
   "metadata": {},
   "outputs": [],
   "source": [
    "df.columns"
   ]
  },
  {
   "cell_type": "code",
   "execution_count": null,
   "metadata": {},
   "outputs": [],
   "source": [
    "df.head(15)"
   ]
  },
  {
   "cell_type": "markdown",
   "metadata": {},
   "source": [
    "# Datos generales\n",
    "Se presentan las estadisticas totales de la temporada"
   ]
  },
  {
   "cell_type": "code",
   "execution_count": null,
   "metadata": {},
   "outputs": [],
   "source": [
    "totales=df['goals'].sum()\n",
    "izquierda=round(df['left_foot'].sum()*100/totales,2)\n",
    "derecha=round(df['right_foot'].sum()*100/totales,2)\n",
    "cabeza=round(df['headers'].sum()*100/totales,2)\n",
    "otros=round(df['others'].sum()*100/totales,2)\n",
    "dentro_del_area=round(df['inside_area'].sum()*100/totales,2)\n",
    "fuera_del_area=round(df['outside_areas'].sum()*100/totales,2)"
   ]
  },
  {
   "cell_type": "code",
   "execution_count": null,
   "metadata": {},
   "outputs": [],
   "source": [
    "\n",
    "print('Cantidad de equipos: {}'.format(len(pd.unique(df['club']))))\n",
    "print('Cantidad de jugadores: {}'.format(len(pd.unique(df['player_name']))))\n",
    "print(\"---------------------------------------------------\")\n",
    "print('Cantidad de tarjetas amarillas: {}'.format(int(df['yellow'].sum())))\n",
    "print('Cantidad de tarjetas rojas: {}'.format(int(df['red'].sum())))\n",
    "print(\"---------------------------------------------------\")\n",
    "print('Asistencias totales: {}'.format(int(df['assists'].sum())))\n",
    "print('Goles totales: {}'.format(totales))\n",
    "print(\"---------------------------------------------------\")\n",
    "print('Goles con la izquierda: {} --> %{}'.format(int(df['left_foot'].sum()),izquierda))\n",
    "print('Goles con la derecha: {} --> %{}'.format(int(df['right_foot'].sum()),derecha))\n",
    "print('Goles con la cabeza: {} --> %{}'.format(int(df['headers'].sum()),cabeza))\n",
    "print('Otros: {} --> %{}'.format(int(df['others'].sum()),otros))\n",
    "print(\"---------------------------------------------------\")\n",
    "print('Goles dentro del area: {} --> %{}'.format(int(df['inside_area'].sum()),dentro_del_area))\n",
    "print('Goles fuera del area: {} --> %{}'.format(int(df['outside_areas'].sum()),fuera_del_area))\n",
    "print(\"---------------------------------------------------\")\n",
    "print('Goles de penal: {}'.format(int(df['penalties'].sum())))\n",
    "print(\"---------------------------------------------------\")"
   ]
  },
  {
   "cell_type": "code",
   "execution_count": null,
   "metadata": {},
   "outputs": [],
   "source": [
    "datos=[derecha,izquierda,cabeza,otros]\n",
    "normdata=colors.Normalize(min(datos),max(datos))\n",
    "colormap = cm.get_cmap(\"jet\")\n",
    "colores =colormap(normdata(datos))\n",
    "separacion=[0.02,0.02,0.02,0.02]\n",
    "fig, ax = plt.subplots()\n",
    "ax.pie(datos,colors=colores, explode=separacion,labels=['Derecha','Izquierda','Cabeza','Otros'], autopct=\"%0.1f %%\",labeldistance=1.1,textprops={'color':\"azure\"})\n",
    "ax.axis('equal')\n",
    "plt.title('Goles temporada 2021',y=1.05,fontdict={'fontsize':20,'color':'azure', 'fontweight':'bold'})\n",
    "plt.show()"
   ]
  },
  {
   "cell_type": "code",
   "execution_count": null,
   "metadata": {},
   "outputs": [],
   "source": [
    "datos=[dentro_del_area,fuera_del_area]\n",
    "normdata=colors.Normalize(min(datos),max(datos))\n",
    "colormap = cm.get_cmap(\"turbo\")\n",
    "colores =colormap(normdata(datos))\n",
    "separacion=[0.02,0.02]\n",
    "fig, ax = plt.subplots()\n",
    "ax.pie(datos,colors=colores, explode=separacion,labels=['Dentro del area','Fuera del area'], autopct=\"%0.1f %%\",labeldistance=1.1,textprops={'color':\"azure\"})\n",
    "ax.axis('equal')\n",
    "plt.title('Goles temporada 2021',y=1.05,fontdict={'fontsize':20,'color':'azure', 'fontweight':'bold'})\n",
    "plt.show()"
   ]
  },
  {
   "cell_type": "markdown",
   "metadata": {},
   "source": [
    "# Goleadores"
   ]
  },
  {
   "cell_type": "code",
   "execution_count": null,
   "metadata": {},
   "outputs": [],
   "source": [
    "df[['player_name','club','match_played','goals']].sort_values('goals',ascending=False).reset_index(drop=True).style.background_gradient(\"Greens\")"
   ]
  }
 ],
 "metadata": {
  "kernelspec": {
   "display_name": "Python 3 (ipykernel)",
   "language": "python",
   "name": "python3"
  },
  "language_info": {
   "codemirror_mode": {
    "name": "ipython",
    "version": 3
   },
   "file_extension": ".py",
   "mimetype": "text/x-python",
   "name": "python",
   "nbconvert_exporter": "python",
   "pygments_lexer": "ipython3",
   "version": "3.9.12"
  },
  "vscode": {
   "interpreter": {
    "hash": "aee8b7b246df8f9039afb4144a1f6fd8d2ca17a180786b69acc140d282b71a49"
   }
  }
 },
 "nbformat": 4,
 "nbformat_minor": 2
}
