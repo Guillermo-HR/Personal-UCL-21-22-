{
 "cells": [
  {
   "cell_type": "code",
   "execution_count": null,
   "id": "ec5c7a5d",
   "metadata": {},
   "outputs": [],
   "source": [
    "import pandas as pd\n",
    "pd.options.display.max_columns = None\n",
    "import matplotlib.pyplot as plt\n",
    "from matplotlib import cm\n",
    "import seaborn as sns"
   ]
  },
  {
   "cell_type": "code",
   "execution_count": null,
   "id": "2cbbce1a",
   "metadata": {},
   "outputs": [],
   "source": [
    "datos=[]\n",
    "ataque=pd.read_csv('data/attacking.csv').drop(['serial','match_played'],axis=1)\n",
    "intentos=pd.read_csv('data/attempts.csv').drop(['serial','match_played'],axis=1)\n",
    "defenza=pd.read_csv('data/defending.csv').drop(['serial','match_played'],axis=1)\n",
    "pases=pd.read_csv('data/distributon.csv').drop(['serial','match_played'],axis=1)\n",
    "porteros=pd.read_csv('data/goalkeeping.csv').drop(['serial','match_played'],axis=1)\n",
    "goles=pd.read_csv('data/goals.csv').drop(['serial','match_played'],axis=1)\n",
    "general=pd.read_csv('data/key_stats.csv').drop(['goals','assists'],axis=1)\n",
    "datos=[intentos,defenza,pases,porteros,goles,general]\n",
    "df=ataque\n",
    "for i in datos:\n",
    "    df=pd.merge(df,i,on=['player_name','club','position'],how='outer')\n",
    "df.fillna(0,inplace=True)\n",
    "df.drop(df[df['player_name']=='Reinildo'].index,inplace=True)\n",
    "df.drop(df[df['player_name']=='Luis Díaz'].index,inplace=True)\n",
    "df.drop(df[df['player_name']=='Brobbey'].index,inplace=True)\n",
    "df['g_m']=df['goals']/df['minutes_played']\n",
    "df['g_p']=df['goals']/df['match_played']\n",
    "df['a_m']=df['assists']/df['minutes_played']\n",
    "df['a_p']=df['assists']/df['match_played']\n",
    "df.insert(36,'no_penalties',df['goals']-df['penalties'])\n",
    "equipos=pd.read_csv('data/club_matches.csv', encoding = 'cp1252').drop(['Unnamed: 0'],axis=1).set_index('club')"
   ]
  },
  {
   "cell_type": "code",
   "execution_count": null,
   "id": "94928acc",
   "metadata": {},
   "outputs": [],
   "source": [
    "df.head()"
   ]
  },
  {
   "cell_type": "code",
   "execution_count": null,
   "id": "09b86dbf",
   "metadata": {},
   "outputs": [],
   "source": [
    "df[df['position']=='Goalkeeper'].describe()"
   ]
  },
  {
   "cell_type": "code",
   "execution_count": null,
   "id": "3f95dd1c",
   "metadata": {},
   "outputs": [],
   "source": [
    "df[df['position']=='Goalkeeper'].describe().iloc[2]"
   ]
  },
  {
   "cell_type": "code",
   "execution_count": null,
   "id": "aab515b9",
   "metadata": {},
   "outputs": [],
   "source": [
    "df[df['position']=='Defender'].describe()"
   ]
  },
  {
   "cell_type": "code",
   "execution_count": null,
   "id": "b570b015",
   "metadata": {},
   "outputs": [],
   "source": [
    "df[df['position']=='Defender'].describe().iloc[2]"
   ]
  },
  {
   "cell_type": "code",
   "execution_count": null,
   "id": "0888db62",
   "metadata": {},
   "outputs": [],
   "source": [
    "df[df['position']=='Midfielder'].describe()"
   ]
  },
  {
   "cell_type": "code",
   "execution_count": null,
   "id": "a4d94483",
   "metadata": {},
   "outputs": [],
   "source": [
    "df[df['position']=='Midfielder'].describe().iloc[2]"
   ]
  },
  {
   "cell_type": "code",
   "execution_count": null,
   "id": "d186791d",
   "metadata": {},
   "outputs": [],
   "source": [
    "df[df['position']=='Forward'].sort_values('goals',ascending=False)"
   ]
  },
  {
   "cell_type": "code",
   "execution_count": null,
   "id": "e752790a",
   "metadata": {},
   "outputs": [],
   "source": [
    "df[df['position']=='Forward'].describe()"
   ]
  },
  {
   "cell_type": "code",
   "execution_count": null,
   "id": "5acf3887",
   "metadata": {},
   "outputs": [],
   "source": [
    "df"
   ]
  },
  {
   "cell_type": "code",
   "execution_count": null,
   "id": "c4f5cf95",
   "metadata": {},
   "outputs": [],
   "source": [
    "# Simular seleccion de jugador\n",
    "jugador='Messi'\n",
    "df_j=df[df['player_name']==jugador].reset_index(drop=True)\n",
    "if df_j.shape[0]>1:\n",
    "    print(df_j[['player_name','club']])\n",
    "    indice_jugador=int(input(f'Existen {df_j.shape[0]} coincidencias.\\nIngresa el numero del jugadar que quieres seleccionar'))\n",
    "    df_j=df_j.loc[indice_jugador]\n",
    "df_j"
   ]
  },
  {
   "cell_type": "code",
   "execution_count": null,
   "id": "04310e8e",
   "metadata": {},
   "outputs": [],
   "source": [
    "# Graficar distribucion de goles\n",
    "df_j.reset_index(drop=True,inplace=True)\n",
    "if df_j['goals'][0]>0:\n",
    "    plt.figure(figsize=(14,10))\n",
    "    colores1=cm.get_cmap('Set1', 4).colors\n",
    "    colores2=cm.get_cmap('Dark2', 2).colors\n",
    "    colores3=cm.get_cmap('tab10', 2).colors\n",
    "    x1=df_j.loc[0,'right_foot':'others'][df_j.loc[0,'right_foot':'others']>0]\n",
    "    x2=df_j.loc[0,'inside_area':'outside_areas'][df_j.loc[0,'inside_area':'outside_areas']>0]\n",
    "    x3=df_j.loc[0,'penalties':'no_penalties'][df_j.loc[0,'penalties':'no_penalties']>0]\n",
    "    x1.plot.pie(legend=True,colors=colores1,wedgeprops={'linewidth':1.8,'edgecolor':\"slategray\"},autopct='%1.2f%%',textprops={'color':'lavender','fontsize':10},pctdistance=0.88)\n",
    "    x2.plot.pie(legend=True,colors=colores2,radius=0.75,startangle=90,wedgeprops={'linewidth':1.8,'edgecolor':\"slategray\"},autopct='%1.2f%%',textprops={'color':'lavender','fontsize':10},pctdistance=0.88)\n",
    "    x3.plot.pie(legend=True,colors=colores3,radius=0.5,startangle=90,wedgeprops={'linewidth':1.8,'edgecolor':\"slategray\"},autopct='%1.2f%%',textprops={'color':'lavender','fontsize':10},pctdistance=0.88)\n",
    "    plt.title(f'Distribucion de goles de {jugador}',fontdict={'fontweight':'bold','color':'w','fontsize':21})\n",
    "    centre_circle=plt.Circle((0,0),0.25,fc='lightgray')\n",
    "    fig=plt.gcf()\n",
    "    fig.gca().add_artist(centre_circle)\n",
    "    plt.axis('equal')\n",
    "    plt.legend(loc=7)\n",
    "    plt.text(-0.1,0.01,f\"Goles: {int(df_j['goals'][0])}\",fontdict={'fontweight':'bold','fontsize':12})\n",
    "    plt.text(-0.13,-0.06,f\"Partidos: {int(df_j['match_played'][0])}\",fontdict={'fontweight':'bold','fontsize':12})\n",
    "    plt.show()"
   ]
  },
  {
   "cell_type": "code",
   "execution_count": null,
   "id": "f0a253b3",
   "metadata": {},
   "outputs": [],
   "source": [
    "# Bigotes por posicion\n",
    "posicion=df_j['position'][0]\n",
    "fig,ax=plt.subplots(ncols=6, figsize=(25,10))\n",
    "df_pos=df[df['position']==posicion]\n",
    "columnas=['goals','g_p','g_m','assists','a_p','a_m']\n",
    "for i,col in zip(range(6),columnas):\n",
    "    ax[i].boxplot(x=df_pos[[col]])\n",
    "    ax[i].plot(1,df_j[col][0], marker=\"D\", color=\"red\")\n",
    "    ax[i].tick_params(labelsize=15)\n",
    "    ax[i].set_xlabel(col,fontsize=20)\n",
    "plt.tight_layout()"
   ]
  },
  {
   "cell_type": "code",
   "execution_count": null,
   "id": "999b1636",
   "metadata": {},
   "outputs": [],
   "source": [
    "fig,ax=plt.subplots(ncols=6, figsize=(20,10))\n",
    "ax[0].boxplot(df_pos['goals'])\n",
    "ax[0].plot(1,df_j['goals'][0], marker=\"D\", color=\"red\")\n",
    "# ax[0].annotate(df_j['player_name'][0],(1.1,df_j['goals'][0]))\n",
    "\n",
    "ax[1].boxplot(df_pos['g_p'])\n",
    "ax[1].plot(1,df_j['g_p'][0], marker=\"D\", color=\"red\")\n",
    "# ax[1].annotate(df_j['player_name'][0],(1.1,df_j['g_p'][0]))"
   ]
  },
  {
   "cell_type": "code",
   "execution_count": null,
   "id": "88de7f8b",
   "metadata": {},
   "outputs": [],
   "source": [
    "df_j"
   ]
  },
  {
   "cell_type": "code",
   "execution_count": null,
   "id": "af69f222",
   "metadata": {},
   "outputs": [],
   "source": [
    "df_pos"
   ]
  },
  {
   "cell_type": "code",
   "execution_count": null,
   "id": "36025004",
   "metadata": {},
   "outputs": [],
   "source": [
    "# Graficas de todos los jugadores con mas de 3 goles\n",
    "m=df.sort_values('goals', ascending=False).query(\"goals>3\")\n",
    "for jugador in m['player_name']:\n",
    "   df_j=df[df['player_name']==jugador].reset_index(drop=True) \n",
    "   plt.figure(figsize=(14,10))\n",
    "   colores1=cm.get_cmap('Set1', 4).colors\n",
    "   colores2=cm.get_cmap('Dark2', 2).colors\n",
    "   colores3=cm.get_cmap('tab10', 2).colors\n",
    "   x1=df_j.loc[0,'right_foot':'others'][df_j.loc[0,'right_foot':'others']>0]\n",
    "   x2=df_j.loc[0,'inside_area':'outside_areas'][df_j.loc[0,'inside_area':'outside_areas']>0]\n",
    "   x3=df_j.loc[0,'penalties':'no_penalties'][df_j.loc[0,'penalties':'no_penalties']>0]\n",
    "   x1.plot.pie(legend=True,colors=colores1,wedgeprops={'linewidth':1.8,'edgecolor':\"slategray\"},autopct='%1.2f%%',textprops={'color':'lavender','fontsize':10},pctdistance=0.88)\n",
    "   x2.plot.pie(legend=True,colors=colores2,radius=0.75,startangle=90,wedgeprops={'linewidth':1.8,'edgecolor':\"slategray\"},autopct='%1.2f%%',textprops={'color':'lavender','fontsize':10},pctdistance=0.88)\n",
    "   x3.plot.pie(legend=True,colors=colores3,radius=0.5,startangle=90,wedgeprops={'linewidth':1.8,'edgecolor':\"slategray\"},autopct='%1.2f%%',textprops={'color':'lavender','fontsize':10},pctdistance=0.88)\n",
    "   plt.title(f'Distribucion de goles de {jugador}',fontdict={'fontweight':'bold','color':'w','fontsize':21})\n",
    "   centre_circle=plt.Circle((0,0),0.25,fc='lightgray')\n",
    "   fig=plt.gcf()\n",
    "   fig.gca().add_artist(centre_circle)\n",
    "   plt.axis('equal')\n",
    "   plt.legend(loc=7)\n",
    "   plt.text(-0.1,0.01,f\"Goles: {int(df_j['goals'][0])}\",fontdict={'fontweight':'bold','fontsize':12})\n",
    "   plt.text(-0.13,-0.06,f\"Partidos: {int(df_j['match_played'][0])}\",fontdict={'fontweight':'bold','fontsize':12})\n",
    "   plt.show()"
   ]
  }
 ],
 "metadata": {
  "kernelspec": {
   "display_name": "Python 3 (ipykernel)",
   "language": "python",
   "name": "python3"
  },
  "language_info": {
   "codemirror_mode": {
    "name": "ipython",
    "version": 3
   },
   "file_extension": ".py",
   "mimetype": "text/x-python",
   "name": "python",
   "nbconvert_exporter": "python",
   "pygments_lexer": "ipython3",
   "version": "3.9.12"
  },
  "vscode": {
   "interpreter": {
    "hash": "2e9252e1097ce3c2361ff05749113f334e700c2312e7c10600c70214a7e80bc0"
   }
  }
 },
 "nbformat": 4,
 "nbformat_minor": 5
}
